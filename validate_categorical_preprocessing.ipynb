{
 "cells": [
  {
   "cell_type": "code",
   "execution_count": 11,
   "metadata": {},
   "outputs": [],
   "source": [
    "from typing import Optional, Tuple\n",
    "\n",
    "import numpy as np\n",
    "\n",
    "from utils.dataset import baseline_preprocessing, fetch_openml_dataset_by_id\n",
    "from models.gradient_boosting import GradientBoostingClassifier\n",
    "\n",
    "\n",
    "def train_by_baseline(\n",
    "    openml_id: int,\n",
    "    seed: Optional[int] = None\n",
    ") -> Tuple[np.ndarray, np.ndarray]:\n",
    "\n",
    "    # id: {2, 41138} --> {anneal, APSFailure}\n",
    "    X_train, X_test, y_train, y_test, weight_train, weight_test = baseline_preprocessing(\n",
    "        *fetch_openml_dataset_by_id(openml_id, seed=seed)\n",
    "    )\n",
    "    gb = GradientBoostingClassifier(seed=seed)\n",
    "    gb.fit(X_train, y_train, sample_weight=weight_train)\n",
    "    preds = gb.predict(X_test)\n",
    "    return preds, y_test, weight_test\n",
    "\n",
    "\n",
    "def accuracy(preds: np.ndarray, labels: np.ndarray, weights: Optional[np.ndarray] = None) -> float:\n",
    "    weights = weights if weights is not None else np.ones_like(labels) / labels.size\n",
    "    return (preds == labels) @ weights"
   ]
  },
  {
   "cell_type": "code",
   "execution_count": 9,
   "metadata": {},
   "outputs": [],
   "source": [
    "preds, labels, weights = train_by_baseline(2, seed=0)"
   ]
  },
  {
   "cell_type": "code",
   "execution_count": 13,
   "metadata": {},
   "outputs": [
    {
     "data": {
      "text/plain": [
       "(0.9576184300645093, 0.9244444444444446)"
      ]
     },
     "execution_count": 13,
     "metadata": {},
     "output_type": "execute_result"
    }
   ],
   "source": [
    "accuracy(preds, labels, weights), accuracy(preds, labels)"
   ]
  },
  {
   "cell_type": "code",
   "execution_count": null,
   "metadata": {},
   "outputs": [],
   "source": []
  }
 ],
 "metadata": {
  "kernelspec": {
   "display_name": "Python 3 (ipykernel)",
   "language": "python",
   "name": "python3"
  },
  "language_info": {
   "codemirror_mode": {
    "name": "ipython",
    "version": 3
   },
   "file_extension": ".py",
   "mimetype": "text/x-python",
   "name": "python",
   "nbconvert_exporter": "python",
   "pygments_lexer": "ipython3",
   "version": "3.8.12"
  }
 },
 "nbformat": 4,
 "nbformat_minor": 4
}
